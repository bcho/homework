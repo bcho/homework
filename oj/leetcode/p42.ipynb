{
 "cells": [
  {
   "cell_type": "code",
   "execution_count": 47,
   "metadata": {},
   "outputs": [
    {
     "name": "stdout",
     "output_type": "stream",
     "text": [
      "0 passed\n",
      "1 passed\n",
      "2 passed\n",
      "3 passed\n",
      "4 passed\n",
      "5 passed\n",
      "6 passed\n",
      "7 passed\n",
      "8 passed\n"
     ]
    }
   ],
   "source": [
    "class Solution:\n",
    "    def trap(self, height):\n",
    "        \"\"\"\n",
    "        :type height: List[int]\n",
    "        :rtype: int\n",
    "        \"\"\"\n",
    "        if not height:\n",
    "            return 0\n",
    "        \n",
    "        def height_between(l, r):\n",
    "            if l >= r:\n",
    "                return 0\n",
    "            h = min(height[l], height[r])\n",
    "            w = (r - l - 1)\n",
    "            b = sum(height[l + 1 + i] for i in range(w))\n",
    "            return h * w - b\n",
    "        \n",
    "        # 预处理每个点之前最高的高度\n",
    "        max_heights = [0] * len(height)\n",
    "        for idx, h in enumerate(height):\n",
    "            if idx == len(height) - 1:\n",
    "                break\n",
    "            if height[idx] >= height[idx + 1]:\n",
    "                max_heights[idx + 1] = idx\n",
    "            else:\n",
    "                pidx, max_height_idx = idx, idx\n",
    "                while pidx > 0:\n",
    "                    max_height_before_idx = height[max_heights[pidx]]\n",
    "                    if max_height_before_idx >= height[idx + 1]:\n",
    "                        max_heights[idx + 1] = max_heights[pidx]\n",
    "                        break\n",
    "                    if max_height_before_idx >= height[max_height_idx]:\n",
    "                        max_height_idx = max_heights[pidx]\n",
    "                    pidx = max_heights[pidx]\n",
    "                    if pidx == 0:\n",
    "                        max_heights[idx + 1] = max_height_idx\n",
    "                    \n",
    "        # 计算每个点之前能保存的水的高度\n",
    "        g = [0] * len(height)\n",
    "        idx = 2\n",
    "        while idx < len(height):\n",
    "            midx = max_heights[idx]\n",
    "            g[idx] = g[midx] + height_between(midx, idx)\n",
    "            idx = idx + 1\n",
    "            \n",
    "        return g[len(height) - 1]\n",
    "        \n",
    "        \n",
    "        \n",
    "s = Solution()\n",
    "\n",
    "\n",
    "for idx, (h, e) in enumerate([\n",
    "    ([], 0),\n",
    "    ([1], 0),\n",
    "    ([1, 0], 0),\n",
    "    ([1, 0, 1], 1),\n",
    "    ([1, 0, 2], 1),\n",
    "    ([0, 0, 1], 0),\n",
    "    ([1, 0, 2, 0, 1], 2),\n",
    "    ([1, 0, 3, 0, 2, 1, 0, 3], 10),\n",
    "    ([0, 1, 0, 2, 1, 0, 1, 3, 2, 1, 2, 1], 6),\n",
    "]):\n",
    "    rv = s.trap(h)\n",
    "    if rv == e:\n",
    "        print(f'{idx} passed')\n",
    "    else:\n",
    "        print(f'{idx} failed {e} {rv}')"
   ]
  },
  {
   "cell_type": "code",
   "execution_count": null,
   "metadata": {},
   "outputs": [],
   "source": []
  }
 ],
 "metadata": {
  "kernelspec": {
   "display_name": "Python 3",
   "language": "python",
   "name": "python3"
  },
  "language_info": {
   "codemirror_mode": {
    "name": "ipython",
    "version": 3
   },
   "file_extension": ".py",
   "mimetype": "text/x-python",
   "name": "python",
   "nbconvert_exporter": "python",
   "pygments_lexer": "ipython3",
   "version": "3.6.7"
  }
 },
 "nbformat": 4,
 "nbformat_minor": 2
}
