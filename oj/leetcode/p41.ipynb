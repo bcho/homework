{
 "cells": [
  {
   "cell_type": "code",
   "execution_count": 23,
   "metadata": {},
   "outputs": [
    {
     "name": "stdout",
     "output_type": "stream",
     "text": [
      "0 passed\n",
      "1 passed\n",
      "2 passed\n",
      "3 passed\n"
     ]
    }
   ],
   "source": [
    "class Solution:\n",
    "    def firstMissingPositive(self, nums):\n",
    "        \"\"\"\n",
    "        :type nums: List[int]\n",
    "        :rtype: int\n",
    "        \"\"\"\n",
    "        if len(nums) < 1:\n",
    "            return 1\n",
    "        idx = 0\n",
    "        while idx < len(nums):\n",
    "            if nums[idx] == idx + 1:\n",
    "                # in the right place\n",
    "                idx = idx + 1\n",
    "                continue\n",
    "            if nums[idx] <= 0 or nums[idx] >= len(nums):\n",
    "                # invalid slot\n",
    "                idx = idx + 1\n",
    "                continue\n",
    "            if nums[nums[idx] - 1] == nums[idx]:\n",
    "                # occupied\n",
    "                idx = idx + 1\n",
    "                continue\n",
    "                \n",
    "            t = nums[idx]\n",
    "            t = nums[nums[idx] - 1] \n",
    "            nums[nums[idx] - 1] = nums[idx]\n",
    "            nums[idx] = t\n",
    "        for idx, x in enumerate(nums):\n",
    "            if x != idx + 1:\n",
    "                return idx + 1\n",
    "        return len(nums) + 1\n",
    "    \n",
    "    \n",
    "s = Solution()\n",
    "\n",
    "for idx, (n, e) in enumerate([\n",
    "    ([1, 3, 2], 4),\n",
    "    ([1, 1], 2),\n",
    "    ([2, 3], 1),\n",
    "    ([5, 8, 4, 2, 1, 3, -1], 6),\n",
    "]):\n",
    "    rv = s.firstMissingPositive(n)\n",
    "    if rv == e:\n",
    "        print(f'{idx} passed')\n",
    "    else:\n",
    "        print(f'{idx} failed: {e} {rv}')"
   ]
  },
  {
   "cell_type": "code",
   "execution_count": null,
   "metadata": {},
   "outputs": [],
   "source": []
  }
 ],
 "metadata": {
  "kernelspec": {
   "display_name": "Python 3",
   "language": "python",
   "name": "python3"
  },
  "language_info": {
   "codemirror_mode": {
    "name": "ipython",
    "version": 3
   },
   "file_extension": ".py",
   "mimetype": "text/x-python",
   "name": "python",
   "nbconvert_exporter": "python",
   "pygments_lexer": "ipython3",
   "version": "3.6.7"
  }
 },
 "nbformat": 4,
 "nbformat_minor": 2
}
