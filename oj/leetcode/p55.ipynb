{
 "cells": [
  {
   "cell_type": "code",
   "execution_count": 13,
   "metadata": {},
   "outputs": [
    {
     "name": "stdout",
     "output_type": "stream",
     "text": [
      "passed\n"
     ]
    }
   ],
   "source": [
    "class Solution:\n",
    "    def canJump(self, nums):\n",
    "        \"\"\"\n",
    "        :type nums: List[int]\n",
    "        :rtype: bool\n",
    "        \"\"\"\n",
    "        if not nums:\n",
    "            return True\n",
    "        \n",
    "        max_reach, max_reach_from_this_batch = 0, 0\n",
    "        for idx, n in enumerate(nums):\n",
    "            if idx >= max_reach:\n",
    "                max_reach = max_reach_from_this_batch\n",
    "            if idx > max_reach_from_this_batch:\n",
    "                break\n",
    "            max_reach_from_this_batch = max(max_reach_from_this_batch, n + idx)\n",
    "            if max_reach_from_this_batch >= len(nums) - 1:\n",
    "                return True\n",
    "        \n",
    "        return False\n",
    "        \n",
    "        \n",
    "s = Solution()\n",
    "\n",
    "assert s.canJump([]) == True\n",
    "assert s.canJump([2, 5, 0, 0]) == True\n",
    "assert s.canJump([3, 2, 1, 0, 4]) == False\n",
    "assert s.canJump([2, 3, 1, 1, 4]) == True\n",
    "assert s.canJump([1, 1, 1, 1, 1]) == True\n",
    "\n",
    "print('passed')"
   ]
  },
  {
   "cell_type": "code",
   "execution_count": null,
   "metadata": {},
   "outputs": [],
   "source": []
  }
 ],
 "metadata": {
  "kernelspec": {
   "display_name": "Python 3",
   "language": "python",
   "name": "python3"
  },
  "language_info": {
   "codemirror_mode": {
    "name": "ipython",
    "version": 3
   },
   "file_extension": ".py",
   "mimetype": "text/x-python",
   "name": "python",
   "nbconvert_exporter": "python",
   "pygments_lexer": "ipython3",
   "version": "3.6.7"
  }
 },
 "nbformat": 4,
 "nbformat_minor": 2
}
