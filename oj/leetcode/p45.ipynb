{
 "cells": [
  {
   "cell_type": "code",
   "execution_count": 56,
   "metadata": {},
   "outputs": [
    {
     "name": "stdout",
     "output_type": "stream",
     "text": [
      "0 passed\n",
      "1 passed\n",
      "2 passed\n",
      "3 passed\n",
      "4 passed\n",
      "5 passed\n",
      "6 passed\n",
      "7 passed\n"
     ]
    }
   ],
   "source": [
    "class Solution:\n",
    "    def jump1(self, nums):\n",
    "        \"\"\"\n",
    "        :type nums: List[int]\n",
    "        :rtype: int\n",
    "        \"\"\"\n",
    "        if not nums:\n",
    "            return 0\n",
    "        f = [len(nums) - 1] * len(nums)\n",
    "        f[len(nums) - 1] = 0\n",
    "        i = len(nums) - 2\n",
    "        while i >= 0:\n",
    "            steps_to_use = nums[i]\n",
    "            s = 1\n",
    "            while s <= steps_to_use and s + i < len(nums):\n",
    "                d = f[i + s] + 1\n",
    "                if d < f[i]:\n",
    "                    f[i] = d\n",
    "                s = s + 1\n",
    "            i = i - 1\n",
    "        return f[0]\n",
    "    \n",
    "    def jump2(self, nums):\n",
    "        v = {}\n",
    "        q = [(0, 0)]\n",
    "        for i, step in q:\n",
    "            if i == len(nums) - 1:\n",
    "                return step\n",
    "            \n",
    "            for j in range(nums[i], 0, -1):\n",
    "                if i + j > len(nums) - 1:\n",
    "                    continue\n",
    "                if i + j in v:\n",
    "                    continue\n",
    "                v[i + j] = True\n",
    "                q.append((i + j, step + 1))\n",
    "                \n",
    "    def jump(self, nums):\n",
    "        if len(nums) < 2:\n",
    "            return len(nums) - 1\n",
    "        min_step, furthest_reach, furthest_reach_this_step = 0, 0, 0\n",
    "        for idx, i in enumerate(nums):\n",
    "            furthest_reach_this_step = max(furthest_reach_this_step, i + idx)\n",
    "            if idx == furthest_reach:\n",
    "                min_step = min_step + 1\n",
    "                furthest_reach = furthest_reach_this_step\n",
    "                if furthest_reach >= len(nums) - 1:\n",
    "                    return min_step\n",
    "        assert False, 'should not reach'\n",
    "            \n",
    "            \n",
    "s = Solution()\n",
    "\n",
    "\n",
    "for idx, (nums, e) in enumerate([\n",
    "    ([1], 0),\n",
    "    ([2, 3, 1, 1, 4], 2),\n",
    "    ([1, 2, 3], 2),\n",
    "    ([1, 2, 3, 4], 2),\n",
    "    ([1, 1, 1, 1], 3),\n",
    "    ([4, 4, 4, 4], 1),\n",
    "    ([25000 - i + 1 for i in range(25000)] * 3, 3),\n",
    "    ([1] * 25000, 24999),\n",
    "]):\n",
    "    rv = s.jump(nums)\n",
    "    if rv == e:\n",
    "        print(f'{idx} passed')\n",
    "    else:\n",
    "        print(f'{idx} failed: e={e} rv={rv}')\n"
   ]
  },
  {
   "cell_type": "code",
   "execution_count": null,
   "metadata": {},
   "outputs": [],
   "source": []
  }
 ],
 "metadata": {
  "kernelspec": {
   "display_name": "Python 3",
   "language": "python",
   "name": "python3"
  },
  "language_info": {
   "codemirror_mode": {
    "name": "ipython",
    "version": 3
   },
   "file_extension": ".py",
   "mimetype": "text/x-python",
   "name": "python",
   "nbconvert_exporter": "python",
   "pygments_lexer": "ipython3",
   "version": "3.6.7"
  }
 },
 "nbformat": 4,
 "nbformat_minor": 2
}
