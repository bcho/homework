{
 "cells": [
  {
   "cell_type": "code",
   "execution_count": 35,
   "metadata": {},
   "outputs": [
    {
     "name": "stdout",
     "output_type": "stream",
     "text": [
      "0 passed\n",
      "1 passed\n",
      "2 passed\n",
      "3 passed\n",
      "4 passed\n",
      "5 passed\n"
     ]
    }
   ],
   "source": [
    "class Solution:\n",
    "    def canCompleteCircuit(self, gas, cost):\n",
    "        \"\"\"\n",
    "        :type gas: List[int]\n",
    "        :type cost: List[int]\n",
    "        :rtype: int\n",
    "        \"\"\"\n",
    "        if sum(gas) < sum(cost):\n",
    "            return -1\n",
    "        \n",
    "        \n",
    "        def next_idx(idx):\n",
    "            if idx + 1 >= len(gas):\n",
    "                return 0\n",
    "            return idx + 1\n",
    "        \n",
    "        idx, from_idx, gas_carrying = 0, 0, 0\n",
    "        while True:\n",
    "            if gas[idx] + gas_carrying < cost[idx]:\n",
    "                # A --> C --> B\n",
    "                # \n",
    "                # 如果 A -/-> B\n",
    "                # 表示 A --> C\n",
    "                # 但 C -/-> B\n",
    "                # 所以下一个查询起点直接用 B\n",
    "                from_idx = next_idx(idx)\n",
    "                idx = from_idx\n",
    "                gas_carrying = 0\n",
    "            else:\n",
    "                gas_carrying = gas[idx] + gas_carrying - cost[idx]\n",
    "                idx = next_idx(idx)\n",
    "                if idx == from_idx:\n",
    "                    return from_idx\n",
    "        \n",
    "        \n",
    "s = Solution()\n",
    "\n",
    "for idx, (gas, cost, e) in enumerate([\n",
    "   ([1, 2, 3, 4, 5],\n",
    "    [3, 4, 5, 1, 2],\n",
    "    3),\n",
    "   ([5, 4, 3, 2, 1],\n",
    "    [1, 2, 3, 4, 5],\n",
    "    0),\n",
    "   ([1, 2, 3, 4, 5],\n",
    "    [5, 4, 3, 2, 1],\n",
    "    2),\n",
    "   ([1, 1, 1, 1, 1],\n",
    "    [2, 2, 2, 2, 2],\n",
    "    -1),\n",
    "   ([3, 3, 4],\n",
    "    [3, 4, 4],\n",
    "    -1),\n",
    "   ([5, 1, 2, 3, 4],\n",
    "    [4, 4, 1, 5, 1],\n",
    "    4),\n",
    "]):\n",
    "    rv = s.canCompleteCircuit(gas, cost)\n",
    "    if rv == e:\n",
    "        print(f'{idx} passed')\n",
    "    else:\n",
    "        print(f'{idx} failed, rv={rv} e={e}')"
   ]
  },
  {
   "cell_type": "code",
   "execution_count": null,
   "metadata": {},
   "outputs": [],
   "source": []
  },
  {
   "cell_type": "code",
   "execution_count": null,
   "metadata": {},
   "outputs": [],
   "source": []
  }
 ],
 "metadata": {
  "kernelspec": {
   "display_name": "Python 3",
   "language": "python",
   "name": "python3"
  },
  "language_info": {
   "codemirror_mode": {
    "name": "ipython",
    "version": 3
   },
   "file_extension": ".py",
   "mimetype": "text/x-python",
   "name": "python",
   "nbconvert_exporter": "python",
   "pygments_lexer": "ipython3",
   "version": "3.6.7"
  }
 },
 "nbformat": 4,
 "nbformat_minor": 2
}
