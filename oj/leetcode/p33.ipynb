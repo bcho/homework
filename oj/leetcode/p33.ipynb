{
 "cells": [
  {
   "cell_type": "code",
   "execution_count": 5,
   "metadata": {},
   "outputs": [
    {
     "name": "stdout",
     "output_type": "stream",
     "text": [
      "passed: 0\n",
      "passed: 1\n",
      "passed: 2\n",
      "passed: 3\n",
      "passed: 4\n",
      "passed: 5\n"
     ]
    }
   ],
   "source": [
    "class Solution:\n",
    "    def search(self, nums, target):\n",
    "        \"\"\"\n",
    "        :type nums: List[int]\n",
    "        :type target: int\n",
    "        :rtype: int\n",
    "        \"\"\"\n",
    "        if not nums:\n",
    "            return -1\n",
    "        \n",
    "        def binary_search(l, r):\n",
    "            if r < l:\n",
    "                return -1\n",
    "            if r == l:\n",
    "                if nums[r] == target:\n",
    "                    return r\n",
    "                return -1\n",
    "            p = (r + l) // 2\n",
    "            if nums[p] == target:\n",
    "                return p\n",
    "            \n",
    "            search_left, search_right = None, None\n",
    "            \n",
    "            if nums[p] < target:\n",
    "                search_right = binary_search(p + 1, r)\n",
    "                if search_right != -1:\n",
    "                    return search_right\n",
    "            elif nums[p] > target:\n",
    "                search_left = binary_search(l, p - 1)\n",
    "                if search_left != -1:\n",
    "                    return search_left\n",
    "            if nums[l] > nums[r]:\n",
    "                if search_left is None:\n",
    "                    return binary_search(l, p - 1)\n",
    "                if search_right is None:\n",
    "                    return binary_search(p + 1, r)\n",
    "            return -1\n",
    "                \n",
    "        return binary_search(0, len(nums) - 1)\n",
    "            \n",
    "        \n",
    "        \n",
    "s = Solution()\n",
    "\n",
    "for idx, (nums, target, expected) in enumerate([\n",
    "    ([1, 2, 3, 4, 5, 6], 3, 2),\n",
    "    ([4, 5, 6, 1, 2, 3], 3, 5),\n",
    "    ([6, 1, 2, 3, 4, 5], 3, 3),\n",
    "    ([6, 1, 2, 4, 5], 3, -1),\n",
    "    ([], 3, -1),\n",
    "    ([3], 3, 0),\n",
    "]):\n",
    "    rv = s.search(nums, target)\n",
    "    if rv == expected:\n",
    "        print(f'passed: {idx}')\n",
    "    else:\n",
    "        print(f'failed: {idx} {expected} {rv}')"
   ]
  },
  {
   "cell_type": "code",
   "execution_count": null,
   "metadata": {},
   "outputs": [],
   "source": []
  }
 ],
 "metadata": {
  "kernelspec": {
   "display_name": "Python 3",
   "language": "python",
   "name": "python3"
  },
  "language_info": {
   "codemirror_mode": {
    "name": "ipython",
    "version": 3
   },
   "file_extension": ".py",
   "mimetype": "text/x-python",
   "name": "python",
   "nbconvert_exporter": "python",
   "pygments_lexer": "ipython3",
   "version": "3.6.7"
  }
 },
 "nbformat": 4,
 "nbformat_minor": 2
}
