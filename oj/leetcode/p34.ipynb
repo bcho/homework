{
 "cells": [
  {
   "cell_type": "code",
   "execution_count": 25,
   "metadata": {},
   "outputs": [
    {
     "name": "stdout",
     "output_type": "stream",
     "text": [
      "0 passed\n",
      "1 passed\n",
      "2 passed\n",
      "3 passed\n",
      "4 passed\n"
     ]
    }
   ],
   "source": [
    "class Solution:\n",
    "    def searchRange(self, nums, target):\n",
    "        \"\"\"\n",
    "        :type nums: List[int]\n",
    "        :type target: int\n",
    "        :rtype: List[int]\n",
    "        \"\"\"\n",
    "        \n",
    "        def binary_search(i, j):\n",
    "            if i > j:\n",
    "                return -1\n",
    "            if i == j:\n",
    "                if nums[i] == target:\n",
    "                    return i\n",
    "                return -1\n",
    "                \n",
    "            p = (i + j) // 2\n",
    "            if nums[p] == target:\n",
    "                return p\n",
    "            elif nums[p] < target:\n",
    "                return binary_search(p + 1, j)\n",
    "            elif nums[p] > target:\n",
    "                return binary_search(i, p - 1)\n",
    "        \n",
    "        m = binary_search(0, len(nums) - 1)\n",
    "        first, last = m, m\n",
    "        while first != -1:\n",
    "            t = binary_search(0, first - 1)\n",
    "            if t == -1:\n",
    "                break\n",
    "            first = t\n",
    "        while last != - 1:\n",
    "            t = binary_search(last + 1, len(nums) - 1)\n",
    "            if t == - 1:\n",
    "                break\n",
    "            last = t\n",
    "        return [first, last]\n",
    "    \n",
    "    def searchRange2(self, nums, target):\n",
    "        def binary_search(i, j, q):\n",
    "            if i >= j:\n",
    "                return i\n",
    "                \n",
    "            p = (i + j) // 2\n",
    "            if nums[p] >= q:\n",
    "                return binary_search(i, p, q)\n",
    "            else:\n",
    "                return binary_search(p + 1, j, q)\n",
    "            \n",
    "        first = binary_search(0, len(nums), target)\n",
    "        if first > len(nums) - 1 or nums[first] != target:\n",
    "            return [-1, -1]\n",
    "        return [first, binary_search(first, len(nums), target + 1) - 1]\n",
    "        \n",
    "        \n",
    "s = Solution()\n",
    "\n",
    "for idx, (nums, target, expected) in enumerate([\n",
    "    ([], 1, [-1, -1]),\n",
    "    ([1, 1, 2], 1, [0, 1]),\n",
    "    ([1, 1, 2], 2, [2, 2]),\n",
    "    ([2, 2], 2, [0, 1]),\n",
    "    ([1, 1, 8, 8, 9, 9], 8, [2, 3])\n",
    "]):\n",
    "    rv = s.searchRange2(nums, target)\n",
    "    if rv == expected:\n",
    "        print(f'{idx} passed')\n",
    "    else:\n",
    "        print(f'{idx} failed {rv} {expected}')"
   ]
  },
  {
   "cell_type": "code",
   "execution_count": null,
   "metadata": {},
   "outputs": [],
   "source": []
  }
 ],
 "metadata": {
  "kernelspec": {
   "display_name": "Python 3",
   "language": "python",
   "name": "python3"
  },
  "language_info": {
   "codemirror_mode": {
    "name": "ipython",
    "version": 3
   },
   "file_extension": ".py",
   "mimetype": "text/x-python",
   "name": "python",
   "nbconvert_exporter": "python",
   "pygments_lexer": "ipython3",
   "version": "3.6.7"
  }
 },
 "nbformat": 4,
 "nbformat_minor": 2
}
