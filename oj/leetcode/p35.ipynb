{
 "cells": [
  {
   "cell_type": "code",
   "execution_count": 12,
   "metadata": {},
   "outputs": [
    {
     "name": "stdout",
     "output_type": "stream",
     "text": [
      "0 passed\n",
      "1 passed\n",
      "2 passed\n",
      "3 passed\n",
      "4 passed\n"
     ]
    }
   ],
   "source": [
    "class Solution:\n",
    "    def searchInsert(self, nums, target):\n",
    "        \"\"\"\n",
    "        :type nums: List[int]\n",
    "        :type target: int\n",
    "        :rtype: int\n",
    "        \"\"\"\n",
    "        l, r = 0, len(nums)\n",
    "        while l < r:\n",
    "            m = (l + r) // 2\n",
    "            if nums[m] == target:\n",
    "                return m\n",
    "            if nums[m] < target:\n",
    "                l = m + 1\n",
    "            if nums[m] > target:\n",
    "                r = m\n",
    "        return l\n",
    "        \n",
    "        \n",
    "s = Solution()\n",
    "\n",
    "\n",
    "for idx, (nums, target, expected) in enumerate([\n",
    "    ([0, 1, 2], 3, 3),\n",
    "    ([0, 1, 2], 2, 2),\n",
    "    ([], 2, 0),\n",
    "    ([0, 1, 2], 0, 0),\n",
    "    ([0, 2, 2], 1, 1),\n",
    "]):\n",
    "    rv = s.searchInsert(nums, target)\n",
    "    if rv == expected:\n",
    "        print(f'{idx} passed')\n",
    "    else:\n",
    "        print(f'{idx} failed {expected} {rv}')"
   ]
  },
  {
   "cell_type": "code",
   "execution_count": null,
   "metadata": {},
   "outputs": [],
   "source": []
  }
 ],
 "metadata": {
  "kernelspec": {
   "display_name": "Python 3",
   "language": "python",
   "name": "python3"
  },
  "language_info": {
   "codemirror_mode": {
    "name": "ipython",
    "version": 3
   },
   "file_extension": ".py",
   "mimetype": "text/x-python",
   "name": "python",
   "nbconvert_exporter": "python",
   "pygments_lexer": "ipython3",
   "version": "3.6.7"
  }
 },
 "nbformat": 4,
 "nbformat_minor": 2
}
