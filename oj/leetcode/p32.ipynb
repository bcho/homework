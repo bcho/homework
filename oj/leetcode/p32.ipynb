{
 "cells": [
  {
   "cell_type": "code",
   "execution_count": 25,
   "metadata": {},
   "outputs": [],
   "source": [
    "testcases = [\n",
    "    ('()()()', 6),\n",
    "    ('())', 2),\n",
    "    ('(', 0),\n",
    "    ('(()()))', 6),\n",
    "    ('(()', 2),\n",
    "    ('', 0),\n",
    "]"
   ]
  },
  {
   "cell_type": "code",
   "execution_count": 26,
   "metadata": {},
   "outputs": [
    {
     "data": {
      "text/plain": [
       "3"
      ]
     },
     "execution_count": 26,
     "metadata": {},
     "output_type": "execute_result"
    }
   ],
   "source": [
    "[1, 2, 3].pop()"
   ]
  },
  {
   "cell_type": "code",
   "execution_count": 34,
   "metadata": {},
   "outputs": [],
   "source": [
    "class Solution:\n",
    "    \n",
    "    def longestValidParentheses(self, s):\n",
    "        st = []\n",
    "        for idx, c in enumerate(s):\n",
    "            if c == '(':\n",
    "                st.append(idx)\n",
    "            elif c == ')':\n",
    "                if st and s[st[len(st) - 1]] == '(':\n",
    "                    st.pop()\n",
    "                else:\n",
    "                    st.append(idx)\n",
    "                    \n",
    "        if not st:\n",
    "            return len(s)\n",
    "        \n",
    "        size, last = 0, len(s)\n",
    "        while st:\n",
    "            t = st.pop()\n",
    "            size = max(size, last - t - 1)\n",
    "            last = t\n",
    "            if not st:\n",
    "                break\n",
    "        size = max(size, last)\n",
    "        return size\n",
    "\n",
    "    \n",
    "sol = Solution()\n",
    "for s, expected in testcases:\n",
    "    p = sol.longestValidParentheses(s)\n",
    "    if p != expected:\n",
    "        print('failed', s, p, expected)"
   ]
  },
  {
   "cell_type": "code",
   "execution_count": null,
   "metadata": {},
   "outputs": [],
   "source": []
  }
 ],
 "metadata": {
  "kernelspec": {
   "display_name": "Python 3",
   "language": "python",
   "name": "python3"
  },
  "language_info": {
   "codemirror_mode": {
    "name": "ipython",
    "version": 3
   },
   "file_extension": ".py",
   "mimetype": "text/x-python",
   "name": "python",
   "nbconvert_exporter": "python",
   "pygments_lexer": "ipython3",
   "version": "3.6.7"
  }
 },
 "nbformat": 4,
 "nbformat_minor": 2
}
